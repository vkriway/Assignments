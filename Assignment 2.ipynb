{
  "nbformat": 4,
  "nbformat_minor": 0,
  "metadata": {
    "colab": {
      "provenance": []
    },
    "kernelspec": {
      "name": "python3",
      "display_name": "Python 3"
    },
    "language_info": {
      "name": "python"
    }
  },
  "cells": [
    {
      "cell_type": "markdown",
      "source": [
        "1.What are the two values of the Boolean data type? How do you write them?\n",
        "\n",
        "Ans- The two values of the Boolean data type are true & false. We write it as True & False."
      ],
      "metadata": {
        "id": "aBs_zs8fgev4"
      }
    },
    {
      "cell_type": "markdown",
      "source": [
        "2. What are the three different types of Boolean operators?\n",
        "\n",
        "Ans- The three different types of Boolean operators are-  \n",
        "\n",
        "Logical AND\n",
        "\n",
        "Logical OR\n",
        "\n",
        "Logical NOT"
      ],
      "metadata": {
        "id": "2b-RbSQUiLkT"
      }
    },
    {
      "cell_type": "markdown",
      "source": [
        "3. Make a list of each Boolean operator's truth tables (i.e. every possible combination of Boolean values for the operator and what it evaluate).\n",
        "\n",
        "Ans- Below is the truth tables for each boolean operator:\n",
        "\n",
        "Logical AND:\n",
        "\n",
        "Operand1    Operand2    Result\n",
        "\n",
        "TRUE        FALSE       FALSE\n",
        "\n",
        "TRUE        TRUE        TRUE\n",
        "\n",
        "FALSE       FALSE       FALSE\n",
        "\n",
        "FALSE       TRUE        FALSE\n",
        "\n",
        "Logical OR:\n",
        "\n",
        "Operand1    Operand2    Result\n",
        "\n",
        "TRUE        FALSE       TRUE\n",
        "\n",
        "TRUE        TRUE        TRUE\n",
        "\n",
        "FALSE       FALSE       FALSE\n",
        "\n",
        "FALSE       TRUE        TRUE\n",
        "\n",
        "Logical NOT:\n",
        "\n",
        "Operand1    RESULT    \n",
        "\n",
        "TRUE        FALSE       \n",
        "\n",
        "FALSE       TRUE        "
      ],
      "metadata": {
        "id": "9k7j05gdjFKV"
      }
    },
    {
      "cell_type": "markdown",
      "source": [
        "4. What are the values of the following expressions?"
      ],
      "metadata": {
        "id": "UjiPLqGDnB2S"
      }
    },
    {
      "cell_type": "code",
      "source": [
        "A= (5>4) and (3==5)\n",
        "print(A)"
      ],
      "metadata": {
        "colab": {
          "base_uri": "https://localhost:8080/"
        },
        "id": "et1WonVCnHJo",
        "outputId": "13b01fed-d045-4d7a-bac7-2943aace1336"
      },
      "execution_count": 3,
      "outputs": [
        {
          "output_type": "stream",
          "name": "stdout",
          "text": [
            "False\n"
          ]
        }
      ]
    },
    {
      "cell_type": "code",
      "source": [
        "B= not (5 > 4)\n",
        "print(B)"
      ],
      "metadata": {
        "colab": {
          "base_uri": "https://localhost:8080/"
        },
        "id": "lwqs450rnVzg",
        "outputId": "5b77ac58-7c33-456f-af85-8eaadbc045ae"
      },
      "execution_count": 4,
      "outputs": [
        {
          "output_type": "stream",
          "name": "stdout",
          "text": [
            "False\n"
          ]
        }
      ]
    },
    {
      "cell_type": "code",
      "source": [
        "C= (5 > 4) or (3 == 5)\n",
        "print(C)"
      ],
      "metadata": {
        "colab": {
          "base_uri": "https://localhost:8080/"
        },
        "id": "S5L7jElsnmHU",
        "outputId": "df4f79c4-03cd-4099-dc56-45c025202e5d"
      },
      "execution_count": 5,
      "outputs": [
        {
          "output_type": "stream",
          "name": "stdout",
          "text": [
            "True\n"
          ]
        }
      ]
    },
    {
      "cell_type": "code",
      "source": [
        "D= not ((5 > 4) or (3 == 5))\n",
        "print(D)"
      ],
      "metadata": {
        "colab": {
          "base_uri": "https://localhost:8080/"
        },
        "id": "X1IhUcmVnsRy",
        "outputId": "c38396bc-1f65-4edc-a817-09fcdf65b62f"
      },
      "execution_count": 6,
      "outputs": [
        {
          "output_type": "stream",
          "name": "stdout",
          "text": [
            "False\n"
          ]
        }
      ]
    },
    {
      "cell_type": "code",
      "source": [
        "E= (True and True) and (True == False)\n",
        "print(E)"
      ],
      "metadata": {
        "colab": {
          "base_uri": "https://localhost:8080/"
        },
        "id": "Kz71tfRbnw1Z",
        "outputId": "c2dd227c-fcdc-414a-d0e3-971204a6ef79"
      },
      "execution_count": 8,
      "outputs": [
        {
          "output_type": "stream",
          "name": "stdout",
          "text": [
            "False\n"
          ]
        }
      ]
    },
    {
      "cell_type": "code",
      "source": [
        "F = (not False) or (not True)\n",
        "print(F)"
      ],
      "metadata": {
        "colab": {
          "base_uri": "https://localhost:8080/"
        },
        "id": "J42n9CzZn1yg",
        "outputId": "ad2a73c7-b753-4fec-93da-72160c066590"
      },
      "execution_count": 9,
      "outputs": [
        {
          "output_type": "stream",
          "name": "stdout",
          "text": [
            "True\n"
          ]
        }
      ]
    },
    {
      "cell_type": "markdown",
      "source": [
        "5. What are the six comparison operators?\n",
        "\n",
        "ANS- The six comparison operators are:\n",
        "\n",
        "Equal to (==)\n",
        "\n",
        "Not equal to (!=)\n",
        "\n",
        "Less Than (<)\n",
        "\n",
        "Greater Than (>)\n",
        "\n",
        "Less than or equal to (<=)\n",
        "\n",
        "Greater than or equal to (>=)"
      ],
      "metadata": {
        "id": "Qa9gmCQdoMQb"
      }
    },
    {
      "cell_type": "markdown",
      "source": [
        "6. How do you tell the difference between the equal to and assignment operators? Describe a condition and when you would use one.\n",
        "\n",
        "ANS- Equal to operator (==), is a comparison operator used to check if two values  or expressions are equal, while Asignemnt operator (=), is an assignment operator used to assign a value to a variable. For Eg."
      ],
      "metadata": {
        "id": "HPf1-IXqoTqY"
      }
    },
    {
      "cell_type": "code",
      "source": [
        "x= 5\n",
        "y= 4\n",
        "if x==y:\n",
        "  print(\"x is equal y\")\n",
        "else:\n",
        "  print(\"x is not equal to y\")\n"
      ],
      "metadata": {
        "colab": {
          "base_uri": "https://localhost:8080/"
        },
        "id": "QDNHGWZAoVLZ",
        "outputId": "d80b33a2-fa59-4e3c-85b3-2a2a7fd6baa8"
      },
      "execution_count": 10,
      "outputs": [
        {
          "output_type": "stream",
          "name": "stdout",
          "text": [
            "x is not equal to y\n"
          ]
        }
      ]
    },
    {
      "cell_type": "markdown",
      "source": [
        "7. Identify the three blocks in this code:\n",
        "\n",
        "spam = 0\n",
        "\n",
        "if spam == 10:\n",
        "\n",
        "print('eggs')   \n",
        "\n",
        "if spam > 5:\n",
        "\n",
        "print('bacon')\n",
        "\n",
        "else:\n",
        "\n",
        "print('ham')\n",
        "\n",
        "print('spam')\n",
        "\n",
        "print('spam')"
      ],
      "metadata": {
        "id": "d8OSVBh_ovj8"
      }
    },
    {
      "cell_type": "code",
      "source": [
        "spam=0\n",
        "if spam==10:\n",
        "  print('eggs')\n",
        "if spam>5:\n",
        "  print('bacon')\n",
        "else:\n",
        "  print('ham')\n",
        "print('spam')\n",
        "print('spam')\n"
      ],
      "metadata": {
        "colab": {
          "base_uri": "https://localhost:8080/"
        },
        "id": "-ObJ6DG7ow3C",
        "outputId": "d3216716-45d9-461c-8b70-2d622418013a"
      },
      "execution_count": 11,
      "outputs": [
        {
          "output_type": "stream",
          "name": "stdout",
          "text": [
            "ham\n",
            "spam\n",
            "spam\n"
          ]
        }
      ]
    },
    {
      "cell_type": "markdown",
      "source": [
        "8. Write code that prints Hello if 1 is stored in spam, prints Howdy if 2 is stored in spam, and prints Greetings! if anything else is stored in spam."
      ],
      "metadata": {
        "id": "mFCp4TFbqOr2"
      }
    },
    {
      "cell_type": "code",
      "source": [
        "spam=1\n",
        "if spam==1:\n",
        "  print('Hello')\n",
        "elif spam==2:\n",
        "  print('Howdy')\n",
        "else:\n",
        "  print('greetings')\n"
      ],
      "metadata": {
        "colab": {
          "base_uri": "https://localhost:8080/"
        },
        "id": "MTjUmuD-qP2W",
        "outputId": "c5cd364c-1f27-49d4-e06e-760674bbbef0"
      },
      "execution_count": 12,
      "outputs": [
        {
          "output_type": "stream",
          "name": "stdout",
          "text": [
            "Hello\n"
          ]
        }
      ]
    },
    {
      "cell_type": "markdown",
      "source": [
        "9.If your programme is stuck in an endless loop, what keys you’ll press?\n",
        "\n",
        "ANS-  CTRL+C"
      ],
      "metadata": {
        "id": "odVWUe4a9uLa"
      }
    },
    {
      "cell_type": "code",
      "source": [],
      "metadata": {
        "id": "mrwXTVku9zqU"
      },
      "execution_count": null,
      "outputs": []
    },
    {
      "cell_type": "markdown",
      "source": [
        "10. How can you tell the difference between break and continue?\n",
        "\n",
        "ANS-   \n",
        "\n",
        "Break – The “break” statement is used to exit the current loop immediately, regardless the loop condition. When encountered, it terminates the loop’s execution and resumes execution at the next statement after the loop.\n",
        "\n",
        "Continue – The “continue” statement is used to skip the remaining code within the loop for the current iteration and move to the next iteration of the loop. It allows you to bypass specific parts of the loop’s execution based on a condition but doesn’t exit the loop entirely."
      ],
      "metadata": {
        "id": "zsj8WXqf92ip"
      }
    },
    {
      "cell_type": "code",
      "source": [],
      "metadata": {
        "id": "TAfLoJAd93ew"
      },
      "execution_count": null,
      "outputs": []
    },
    {
      "cell_type": "markdown",
      "source": [
        "11. In a for loop, what is the difference between range(10), range(0, 10), and range(0, 10, 1)?\n",
        "\n",
        "ANS-  All are equivalent and produce the sequence [0,1,2,3,4,5,6,7,8,9]"
      ],
      "metadata": {
        "id": "M1CjIoJb98RE"
      }
    },
    {
      "cell_type": "markdown",
      "source": [
        "12. Write a short program that prints the numbers 1 to 10 using a for loop. Then write an equivalent program that prints the numbers 1 to 10 using a while loop."
      ],
      "metadata": {
        "id": "ajGnHNxW-DNM"
      }
    },
    {
      "cell_type": "code",
      "source": [
        "#Program using a for loop:\n",
        "for i in range(1,11):\n",
        "  print(i)"
      ],
      "metadata": {
        "colab": {
          "base_uri": "https://localhost:8080/"
        },
        "id": "lc5_FLze-EJ_",
        "outputId": "a0b2aade-4e45-45ab-aba1-1404d4093c2c"
      },
      "execution_count": 14,
      "outputs": [
        {
          "output_type": "stream",
          "name": "stdout",
          "text": [
            "1\n",
            "2\n",
            "3\n",
            "4\n",
            "5\n",
            "6\n",
            "7\n",
            "8\n",
            "9\n",
            "10\n"
          ]
        }
      ]
    },
    {
      "cell_type": "code",
      "source": [
        "#Program using a while loop:\n",
        "i=1\n",
        "while i<=10:\n",
        "  print(i)\n",
        "  i+=1"
      ],
      "metadata": {
        "colab": {
          "base_uri": "https://localhost:8080/"
        },
        "id": "HJLH9UW9-L3Y",
        "outputId": "47d6c318-967b-4a19-938b-dfd98a2e5a10"
      },
      "execution_count": 15,
      "outputs": [
        {
          "output_type": "stream",
          "name": "stdout",
          "text": [
            "1\n",
            "2\n",
            "3\n",
            "4\n",
            "5\n",
            "6\n",
            "7\n",
            "8\n",
            "9\n",
            "10\n"
          ]
        }
      ]
    },
    {
      "cell_type": "markdown",
      "source": [
        " 13. If you had a function named bacon() inside a module named spam, how would you call it after importing spam?\n",
        "\n",
        " Ans- If we had a function named bacon() inside a module named spam, we can call it after importing spam using the dot notation.\n",
        "\n",
        " import spam\n",
        "\n",
        " spam.bacon()"
      ],
      "metadata": {
        "id": "TZU7w1ut-lI5"
      }
    },
    {
      "cell_type": "code",
      "source": [
        "import spam\n",
        "spam.bacon()"
      ],
      "metadata": {
        "colab": {
          "base_uri": "https://localhost:8080/",
          "height": 321
        },
        "id": "TrCtC1ddCUNP",
        "outputId": "00e13613-cf2f-4fa1-bc47-e316e9e625cf"
      },
      "execution_count": 18,
      "outputs": [
        {
          "output_type": "error",
          "ename": "ModuleNotFoundError",
          "evalue": "ignored",
          "traceback": [
            "\u001b[0;31m---------------------------------------------------------------------------\u001b[0m",
            "\u001b[0;31mModuleNotFoundError\u001b[0m                       Traceback (most recent call last)",
            "\u001b[0;32m<ipython-input-18-d046eaba9d8a>\u001b[0m in \u001b[0;36m<cell line: 1>\u001b[0;34m()\u001b[0m\n\u001b[0;32m----> 1\u001b[0;31m \u001b[0;32mimport\u001b[0m \u001b[0mspam\u001b[0m\u001b[0;34m\u001b[0m\u001b[0;34m\u001b[0m\u001b[0m\n\u001b[0m\u001b[1;32m      2\u001b[0m \u001b[0mspam\u001b[0m\u001b[0;34m.\u001b[0m\u001b[0mbacon\u001b[0m\u001b[0;34m(\u001b[0m\u001b[0;34m)\u001b[0m\u001b[0;34m\u001b[0m\u001b[0;34m\u001b[0m\u001b[0m\n",
            "\u001b[0;31mModuleNotFoundError\u001b[0m: No module named 'spam'",
            "",
            "\u001b[0;31m---------------------------------------------------------------------------\u001b[0;32m\nNOTE: If your import is failing due to a missing package, you can\nmanually install dependencies using either !pip or !apt.\n\nTo view examples of installing some common dependencies, click the\n\"Open Examples\" button below.\n\u001b[0;31m---------------------------------------------------------------------------\u001b[0m\n"
          ],
          "errorDetails": {
            "actions": [
              {
                "action": "open_url",
                "actionText": "Open Examples",
                "url": "/notebooks/snippets/importing_libraries.ipynb"
              }
            ]
          }
        }
      ]
    },
    {
      "cell_type": "code",
      "source": [],
      "metadata": {
        "id": "wakfUSXZCYYP"
      },
      "execution_count": null,
      "outputs": []
    }
  ]
}